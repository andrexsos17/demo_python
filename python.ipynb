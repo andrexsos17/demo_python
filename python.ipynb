{
 "metadata": {
  "language_info": {
   "codemirror_mode": {
    "name": "ipython",
    "version": 3
   },
   "file_extension": ".py",
   "mimetype": "text/x-python",
   "name": "python",
   "nbconvert_exporter": "python",
   "pygments_lexer": "ipython3",
   "version": "3.8.5-final"
  },
  "orig_nbformat": 2,
  "kernelspec": {
   "name": "python_defaultSpec_1597676035084",
   "display_name": "Python 3.8.5 32-bit"
  }
 },
 "nbformat": 4,
 "nbformat_minor": 2,
 "cells": [
  {
   "cell_type": "code",
   "execution_count": 7,
   "metadata": {
    "tags": []
   },
   "outputs": [
    {
     "output_type": "stream",
     "name": "stdout",
     "text": "Elige tu camino\nhola\n"
    }
   ],
   "source": [
    "print(\"Elige tu camino\")\n",
    "inicio = input (\"Escribe empezar\")\n",
    "while (inicio == \"empezar\"):\n",
    "    numero = int(input(\"\"\"Escribe un número\n",
    "    1. saluda\n",
    "    2. despide\"\"\"))\n",
    "    if numero == 1:\n",
    "        print(\"hola\")\n",
    "    elif numero == 2 :\n",
    "        print(\"chao\")\n",
    "    else:\n",
    "        print(\"paila\")\n",
    "    break\n",
    "\n",
    "    \n"
   ]
  },
  {
   "cell_type": "code",
   "execution_count": 14,
   "metadata": {
    "tags": []
   },
   "outputs": [
    {
     "output_type": "stream",
     "name": "stdout",
     "text": "1\nx2 2\n2\nx2 4\n3\nx2 6\n4\nx2 8\n5\nx2 10\n6\nx2 12\n7\nx2 14\n8\nx2 16\n9\nx2 18\n10\nx2 20\n"
    }
   ],
   "source": [
    "#Ciclo for\n",
    "lista =[1,2,3,4,5,6,7,8,9,10]\n",
    "indice=0\n",
    "for recorrer in lista:\n",
    "    print(recorrer)\n",
    "    lista[indice]*=2    \n",
    "    print(\"x2\",lista[indice])\n",
    "    indice+=1\n"
   ]
  },
  {
   "cell_type": "code",
   "execution_count": 15,
   "metadata": {
    "tags": []
   },
   "outputs": [
    {
     "output_type": "stream",
     "name": "stdout",
     "text": "h\no\nl\na\n \nm\nu\nn\nd\no\n"
    }
   ],
   "source": [
    "string = \"hola mundo\"\n",
    "for caracter in string:\n",
    "    print(caracter)"
   ]
  },
  {
   "cell_type": "code",
   "execution_count": 16,
   "metadata": {},
   "outputs": [
    {
     "output_type": "execute_result",
     "data": {
      "text/plain": "(1, 2, 3, 'hola', ['hi', 'hi2'])"
     },
     "metadata": {},
     "execution_count": 16
    }
   ],
   "source": [
    "#tuplas\n",
    "tupla = (1,2,3,\"hola\",[\"hi\",\"hi2\"])\n",
    "tupla"
   ]
  },
  {
   "cell_type": "code",
   "execution_count": 17,
   "metadata": {},
   "outputs": [
    {
     "output_type": "execute_result",
     "data": {
      "text/plain": "{'1', 1, 'como', 'estas', 'hola'}"
     },
     "metadata": {},
     "execution_count": 17
    }
   ],
   "source": [
    "#colecciones\n",
    "coleccion = {\"hola\",\"como\",\"estas\",1,\"1\"}\n",
    "coleccion"
   ]
  },
  {
   "cell_type": "code",
   "execution_count": 21,
   "metadata": {},
   "outputs": [
    {
     "output_type": "execute_result",
     "data": {
      "text/plain": "'cat'"
     },
     "metadata": {},
     "execution_count": 21
    }
   ],
   "source": [
    "##Diccionario\n",
    "diccionario ={'hola':'hi','gato':'cat','perro':'doc'}\n",
    "type(diccionario)\n",
    "diccionario[\"gato\"]"
   ]
  },
  {
   "cell_type": "code",
   "execution_count": 22,
   "metadata": {},
   "outputs": [
    {
     "output_type": "execute_result",
     "data": {
      "text/plain": "[2, 4, 6, 1]"
     },
     "metadata": {},
     "execution_count": 22
    }
   ],
   "source": [
    "#Pilas\n",
    "pila = [2,4,6]\n",
    "pila.append(1)\n",
    "pila"
   ]
  },
  {
   "cell_type": "code",
   "execution_count": 27,
   "metadata": {
    "tags": []
   },
   "outputs": [
    {
     "output_type": "stream",
     "name": "stdout",
     "text": "deque(['juan', 'pedro', 'pablo'])\ndeque(['juan', 'pedro', 'pablo', 'jacinto'])\ndeque(['juan', 'pedro', 'pablo'])\ndeque(['pedro', 'pablo'])\n"
    }
   ],
   "source": [
    "#colas\n",
    "from collections import deque\n",
    "cola = deque()\n",
    "type(cola)\n",
    "cola = deque(['juan','pedro','pablo'])\n",
    "print(cola)\n",
    "cola.append('jacinto')\n",
    "print(cola)\n",
    "cola.pop()\n",
    "print(cola)\n",
    "cola.popleft()\n",
    "print(cola)\n"
   ]
  },
  {
   "cell_type": "code",
   "execution_count": 28,
   "metadata": {
    "tags": []
   },
   "outputs": [
    {
     "output_type": "stream",
     "name": "stdout",
     "text": "ingresa 5 numeros\n['1', '2', '3', '4', '5']\n"
    }
   ],
   "source": [
    "print(\"ingresa 5 numeros\")\n",
    "listas=[]\n",
    "for i in range(5):\n",
    "    listas.append(input(\"ingresa un numero: \"))\n",
    "print(listas)"
   ]
  },
  {
   "cell_type": "code",
   "execution_count": 29,
   "metadata": {
    "tags": []
   },
   "outputs": [
    {
     "output_type": "stream",
     "name": "stdout",
     "text": "holas soy Andres y mi apellido es Sossa\n"
    }
   ],
   "source": [
    "texto = \"Andres\"\n",
    "texto2 = \"Sossa\"\n",
    "print(\"holas soy {} y mi apellido es {}\".format(texto,texto2))"
   ]
  },
  {
   "cell_type": "code",
   "execution_count": 32,
   "metadata": {
    "tags": []
   },
   "outputs": [
    {
     "output_type": "stream",
     "name": "stdout",
     "text": "hola mundo desde funcion\n"
    }
   ],
   "source": [
    "def holaDesdeFuncion():\n",
    "   print(\"hola mundo desde funcion\")\n",
    "holaDesdeFuncion()\n"
   ]
  },
  {
   "cell_type": "code",
   "execution_count": 34,
   "metadata": {
    "tags": []
   },
   "outputs": [
    {
     "output_type": "stream",
     "name": "stdout",
     "text": "7 * 0 = 0\n7 * 1 = 7\n7 * 2 = 14\n7 * 3 = 21\n7 * 4 = 28\n7 * 5 = 35\n7 * 6 = 42\n7 * 7 = 49\n7 * 8 = 56\n7 * 9 = 63\n"
    }
   ],
   "source": [
    "def tablaDelSiete():\n",
    "    for x in range(10):\n",
    "        print(\"7 * {} = {}\".format(x,x*7))\n",
    "tablaDelSiete()"
   ]
  },
  {
   "cell_type": "code",
   "execution_count": 42,
   "metadata": {
    "tags": []
   },
   "outputs": [
    {
     "output_type": "stream",
     "name": "stdout",
     "text": "hola hola andres\n"
    }
   ],
   "source": [
    "def saludo(persona):\n",
    "    return \"hola hola\", persona\n",
    "print (saludo(\"andres\")[0],saludo(\"andres\")[1])\n"
   ]
  },
  {
   "cell_type": "code",
   "execution_count": 45,
   "metadata": {
    "tags": []
   },
   "outputs": [
    {
     "output_type": "stream",
     "name": "stdout",
     "text": "3\n"
    }
   ],
   "source": [
    "def calculadora(numero1, numero2, operacion):\n",
    "    resultado = numero1+numero2\n",
    "    return resultado\n",
    "\n",
    "print(calculadora(numero1=1,numero2=2,operacion=\"suma\"))"
   ]
  },
  {
   "cell_type": "code",
   "execution_count": 48,
   "metadata": {
    "tags": []
   },
   "outputs": [
    {
     "output_type": "stream",
     "name": "stdout",
     "text": "hi   hola\ncat   gato\n"
    }
   ],
   "source": [
    "def diccionario (**valores):\n",
    "    for x in valores:\n",
    "        print(x, \" \", valores[x])\n",
    "diccionario(hi=\"hola\",cat=\"gato\")"
   ]
  },
  {
   "cell_type": "code",
   "execution_count": null,
   "metadata": {},
   "outputs": [],
   "source": []
  },
  {
   "cell_type": "code",
   "execution_count": null,
   "metadata": {},
   "outputs": [],
   "source": []
  },
  {
   "cell_type": "code",
   "execution_count": null,
   "metadata": {},
   "outputs": [],
   "source": []
  },
  {
   "cell_type": "code",
   "execution_count": null,
   "metadata": {},
   "outputs": [],
   "source": []
  },
  {
   "cell_type": "code",
   "execution_count": null,
   "metadata": {},
   "outputs": [],
   "source": []
  },
  {
   "cell_type": "code",
   "execution_count": null,
   "metadata": {},
   "outputs": [],
   "source": []
  },
  {
   "cell_type": "code",
   "execution_count": null,
   "metadata": {},
   "outputs": [],
   "source": []
  },
  {
   "cell_type": "code",
   "execution_count": null,
   "metadata": {},
   "outputs": [],
   "source": []
  },
  {
   "cell_type": "code",
   "execution_count": null,
   "metadata": {},
   "outputs": [],
   "source": []
  },
  {
   "cell_type": "code",
   "execution_count": null,
   "metadata": {},
   "outputs": [],
   "source": []
  },
  {
   "cell_type": "code",
   "execution_count": null,
   "metadata": {},
   "outputs": [],
   "source": []
  },
  {
   "cell_type": "code",
   "execution_count": null,
   "metadata": {},
   "outputs": [],
   "source": []
  },
  {
   "cell_type": "code",
   "execution_count": null,
   "metadata": {},
   "outputs": [],
   "source": []
  },
  {
   "cell_type": "code",
   "execution_count": null,
   "metadata": {},
   "outputs": [],
   "source": []
  },
  {
   "cell_type": "code",
   "execution_count": null,
   "metadata": {},
   "outputs": [],
   "source": []
  }
 ]
}