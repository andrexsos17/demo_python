{
 "metadata": {
  "language_info": {
   "codemirror_mode": {
    "name": "ipython",
    "version": 3
   },
   "file_extension": ".py",
   "mimetype": "text/x-python",
   "name": "python",
   "nbconvert_exporter": "python",
   "pygments_lexer": "ipython3",
   "version": "3.8.5-final"
  },
  "orig_nbformat": 2,
  "kernelspec": {
   "name": "python_defaultSpec_1597674312984",
   "display_name": "Python 3.8.5 32-bit"
  }
 },
 "nbformat": 4,
 "nbformat_minor": 2,
 "cells": [
  {
   "cell_type": "code",
   "execution_count": 4,
   "metadata": {
    "tags": []
   },
   "outputs": [
    {
     "output_type": "stream",
     "name": "stdout",
     "text": "imprimo esto\n"
    }
   ],
   "source": [
    "if True:\n",
    "    print(\"imprimo esto\")"
   ]
  },
  {
   "cell_type": "code",
   "execution_count": 9,
   "metadata": {
    "tags": []
   },
   "outputs": [
    {
     "output_type": "stream",
     "name": "stdout",
     "text": "soy un 5\nsoy menor a 6\n"
    }
   ],
   "source": [
    "numero = 5\n",
    "if numero ==5:\n",
    "    print(\"soy un 5\")\n",
    "    if numero < 6:\n",
    "        print(\"soy menor a 6\")\n"
   ]
  },
  {
   "cell_type": "code",
   "execution_count": 12,
   "metadata": {
    "tags": []
   },
   "outputs": [
    {
     "output_type": "stream",
     "name": "stdout",
     "text": "soy 5\n"
    }
   ],
   "source": [
    "numero = 5\n",
    "if numero < 6 and numero > 4:\n",
    "    print(\"soy 5\")"
   ]
  },
  {
   "cell_type": "code",
   "execution_count": 15,
   "metadata": {
    "tags": []
   },
   "outputs": [
    {
     "output_type": "stream",
     "name": "stdout",
     "text": "soy impar\n"
    }
   ],
   "source": [
    "numero = 5\n",
    "if numero % 2 == 0:\n",
    "    print(\"soy par\")\n",
    "else:\n",
    "    print(\"soy impar\")"
   ]
  },
  {
   "cell_type": "code",
   "execution_count": 17,
   "metadata": {
    "tags": []
   },
   "outputs": [
    {
     "output_type": "stream",
     "name": "stdout",
     "text": "soy 4\n"
    }
   ],
   "source": [
    "numero = 4\n",
    "if numero == 5:\n",
    "    print(\"soy 5\")\n",
    "elif numero == 4:\n",
    "    print(\"soy 4\")\n",
    "else :\n",
    "    print (\"soy otro\")"
   ]
  },
  {
   "cell_type": "code",
   "execution_count": 21,
   "metadata": {
    "tags": []
   },
   "outputs": [
    {
     "output_type": "stream",
     "name": "stdout",
     "text": "estoy iterando, va 1\nestoy iterando, va 2\nestoy iterando, va 3\nrompi iteracion\n"
    }
   ],
   "source": [
    "## Iteracion\n",
    "iteracion = 0\n",
    "while iteracion <= 3:\n",
    "    iteracion +=1\n",
    "    print (\"estoy iterando, va\", iteracion)\n",
    "    if iteracion == 3:\n",
    "        print(\"rompi iteracion\")\n",
    "        break\n",
    "else:\n",
    "    print(\"termine\")"
   ]
  },
  {
   "cell_type": "code",
   "execution_count": null,
   "metadata": {},
   "outputs": [],
   "source": []
  }
 ]
}